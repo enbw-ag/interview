{
 "cells": [
  {
   "cell_type": "markdown",
   "metadata": {
    "id": "5bdK6m5X1lx1"
   },
   "source": [
    "# Charging Sessions\n",
    "\n",
    "A charging session is decribed by\n",
    "\n",
    "- an arrival date and time `t_start`\n",
    "- a departure date and time `t_end`\n",
    "- an energy charged `energy_wh` in Watt-hours\n",
    "\n",
    "For example:\n",
    "\n",
    "```\n",
    "t_start = 2023-12-31 12:19:47.764300544+01:00\n",
    "t_end = 2024-01-02 16:48:17.680527360+01:00\n",
    "energy_wh = 33541.0\n",
    "```\n"
   ]
  },
  {
   "cell_type": "markdown",
   "metadata": {
    "id": "GtLoH4mE1j2d"
   },
   "source": [
    "# Data"
   ]
  },
  {
   "cell_type": "code",
   "execution_count": 2,
   "metadata": {},
   "outputs": [
    {
     "name": "stdout",
     "output_type": "stream",
     "text": [
      "/home/hegele/ch-auth/start_ssh_agent.sh\n",
      "Identity added: /home/hegele/.ssh/mariushegele_github (hegele@ENBW-5CD3244067)\n",
      "Requirement already satisfied: pandas in /home/hegele/facilitator/backend/.venv/lib/python3.11/site-packages (2.1.1)\n",
      "Requirement already satisfied: numpy>=1.23.2 in /home/hegele/facilitator/backend/.venv/lib/python3.11/site-packages (from pandas) (1.26.0)\n",
      "Requirement already satisfied: python-dateutil>=2.8.2 in /home/hegele/facilitator/backend/.venv/lib/python3.11/site-packages (from pandas) (2.8.2)\n",
      "Requirement already satisfied: pytz>=2020.1 in /home/hegele/facilitator/backend/.venv/lib/python3.11/site-packages (from pandas) (2023.3.post1)\n",
      "Requirement already satisfied: tzdata>=2022.1 in /home/hegele/facilitator/backend/.venv/lib/python3.11/site-packages (from pandas) (2023.3)\n",
      "Requirement already satisfied: six>=1.5 in /home/hegele/facilitator/backend/.venv/lib/python3.11/site-packages (from python-dateutil>=2.8.2->pandas) (1.16.0)\n"
     ]
    }
   ],
   "source": [
    "!pip install pandas"
   ]
  },
  {
   "cell_type": "code",
   "execution_count": 3,
   "metadata": {
    "executionInfo": {
     "elapsed": 505,
     "status": "ok",
     "timestamp": 1723453276344,
     "user": {
      "displayName": "Marius",
      "userId": "07954262804281898728"
     },
     "user_tz": -120
    },
    "id": "tbijs_Niz3zJ"
   },
   "outputs": [],
   "source": [
    "import pandas as pd"
   ]
  },
  {
   "cell_type": "code",
   "execution_count": 4,
   "metadata": {
    "executionInfo": {
     "elapsed": 239,
     "status": "ok",
     "timestamp": 1723453516478,
     "user": {
      "displayName": "Marius",
      "userId": "07954262804281898728"
     },
     "user_tz": -120
    },
    "id": "X6qc0TGR0fuv"
   },
   "outputs": [],
   "source": [
    "df = pd.read_csv('charging_sessions_2024.csv', index_col=0)\n",
    "df.t_start = pd.to_datetime(df.t_start, utc=True)\n",
    "df.t_end = pd.to_datetime(df.t_end, utc=True)\n",
    "df.t_start = df.t_start.dt.tz_convert('Europe/Berlin')\n",
    "df.t_end = df.t_end.dt.tz_convert('Europe/Berlin')"
   ]
  },
  {
   "cell_type": "code",
   "execution_count": 5,
   "metadata": {
    "colab": {
     "base_uri": "https://localhost:8080/",
     "height": 206
    },
    "executionInfo": {
     "elapsed": 283,
     "status": "ok",
     "timestamp": 1723453518104,
     "user": {
      "displayName": "Marius",
      "userId": "07954262804281898728"
     },
     "user_tz": -120
    },
    "id": "vLRW3SZy0jYI",
    "outputId": "a8d38284-7dcd-4351-d63d-6a4a79694431"
   },
   "outputs": [
    {
     "data": {
      "text/html": [
       "<div>\n",
       "<style scoped>\n",
       "    .dataframe tbody tr th:only-of-type {\n",
       "        vertical-align: middle;\n",
       "    }\n",
       "\n",
       "    .dataframe tbody tr th {\n",
       "        vertical-align: top;\n",
       "    }\n",
       "\n",
       "    .dataframe thead th {\n",
       "        text-align: right;\n",
       "    }\n",
       "</style>\n",
       "<table border=\"1\" class=\"dataframe\">\n",
       "  <thead>\n",
       "    <tr style=\"text-align: right;\">\n",
       "      <th></th>\n",
       "      <th>t_start</th>\n",
       "      <th>t_end</th>\n",
       "      <th>energy_wh</th>\n",
       "    </tr>\n",
       "  </thead>\n",
       "  <tbody>\n",
       "    <tr>\n",
       "      <th>0</th>\n",
       "      <td>2023-12-31 12:19:47.764300544+01:00</td>\n",
       "      <td>2024-01-02 16:48:17.680527360+01:00</td>\n",
       "      <td>33541.0</td>\n",
       "    </tr>\n",
       "    <tr>\n",
       "      <th>1</th>\n",
       "      <td>2024-01-02 05:17:03.264266240+01:00</td>\n",
       "      <td>2024-01-02 14:58:56.566043648+01:00</td>\n",
       "      <td>11322.0</td>\n",
       "    </tr>\n",
       "    <tr>\n",
       "      <th>2</th>\n",
       "      <td>2024-01-02 05:40:00.790305792+01:00</td>\n",
       "      <td>2024-01-02 17:40:44.944933120+01:00</td>\n",
       "      <td>11974.0</td>\n",
       "    </tr>\n",
       "    <tr>\n",
       "      <th>3</th>\n",
       "      <td>2024-01-02 05:43:00.137842176+01:00</td>\n",
       "      <td>2024-01-02 12:18:20.466518272+01:00</td>\n",
       "      <td>32258.0</td>\n",
       "    </tr>\n",
       "    <tr>\n",
       "      <th>4</th>\n",
       "      <td>2024-01-02 07:26:09.277101824+01:00</td>\n",
       "      <td>2024-01-02 17:09:52.622109440+01:00</td>\n",
       "      <td>35038.0</td>\n",
       "    </tr>\n",
       "  </tbody>\n",
       "</table>\n",
       "</div>"
      ],
      "text/plain": [
       "                              t_start                               t_end  \\\n",
       "0 2023-12-31 12:19:47.764300544+01:00 2024-01-02 16:48:17.680527360+01:00   \n",
       "1 2024-01-02 05:17:03.264266240+01:00 2024-01-02 14:58:56.566043648+01:00   \n",
       "2 2024-01-02 05:40:00.790305792+01:00 2024-01-02 17:40:44.944933120+01:00   \n",
       "3 2024-01-02 05:43:00.137842176+01:00 2024-01-02 12:18:20.466518272+01:00   \n",
       "4 2024-01-02 07:26:09.277101824+01:00 2024-01-02 17:09:52.622109440+01:00   \n",
       "\n",
       "   energy_wh  \n",
       "0    33541.0  \n",
       "1    11322.0  \n",
       "2    11974.0  \n",
       "3    32258.0  \n",
       "4    35038.0  "
      ]
     },
     "execution_count": 5,
     "metadata": {},
     "output_type": "execute_result"
    }
   ],
   "source": [
    "df.head()"
   ]
  },
  {
   "cell_type": "code",
   "execution_count": 6,
   "metadata": {
    "colab": {
     "base_uri": "https://localhost:8080/",
     "height": 178
    },
    "executionInfo": {
     "elapsed": 252,
     "status": "ok",
     "timestamp": 1723453520740,
     "user": {
      "displayName": "Marius",
      "userId": "07954262804281898728"
     },
     "user_tz": -120
    },
    "id": "Xf4peoaQ0j7_",
    "outputId": "1a2f4a40-b813-47dd-b55b-e92ed5ff3023"
   },
   "outputs": [
    {
     "data": {
      "text/plain": [
       "t_start      datetime64[ns, Europe/Berlin]\n",
       "t_end        datetime64[ns, Europe/Berlin]\n",
       "energy_wh                          float64\n",
       "dtype: object"
      ]
     },
     "execution_count": 6,
     "metadata": {},
     "output_type": "execute_result"
    }
   ],
   "source": [
    "df.dtypes"
   ]
  },
  {
   "cell_type": "code",
   "execution_count": 7,
   "metadata": {
    "colab": {
     "base_uri": "https://localhost:8080/",
     "height": 458
    },
    "executionInfo": {
     "elapsed": 273,
     "status": "ok",
     "timestamp": 1723453523958,
     "user": {
      "displayName": "Marius",
      "userId": "07954262804281898728"
     },
     "user_tz": -120
    },
    "id": "_vf7RYay0pYx",
    "outputId": "b7fc67dd-ca3d-47dd-97e7-9cc6bcf54c9f"
   },
   "outputs": [
    {
     "data": {
      "text/plain": [
       "0        12\n",
       "1         5\n",
       "2         5\n",
       "3         5\n",
       "4         7\n",
       "         ..\n",
       "10782    14\n",
       "10783    15\n",
       "10784    15\n",
       "10785    16\n",
       "10786    17\n",
       "Name: t_start, Length: 10787, dtype: int32"
      ]
     },
     "execution_count": 7,
     "metadata": {},
     "output_type": "execute_result"
    }
   ],
   "source": [
    "df.t_start.dt.hour"
   ]
  },
  {
   "cell_type": "markdown",
   "metadata": {
    "id": "qOifpIP31stP"
   },
   "source": [
    "# Characterizing charging behavior\n",
    "\n",
    "We would like to figure out:\n",
    "\n",
    "- when do people charge and how much?\n",
    "- what is the daily load distribution?\n",
    "- can we make a statement about the typical usage patterns?"
   ]
  },
  {
   "cell_type": "code",
   "execution_count": null,
   "metadata": {
    "id": "uMrIE-TS1v1l"
   },
   "outputs": [],
   "source": []
  }
 ],
 "metadata": {
  "colab": {
   "authorship_tag": "ABX9TyP0XW7LUi5ODye0QBt5n7yn",
   "provenance": []
  },
  "kernelspec": {
   "display_name": "Python 3 (ipykernel)",
   "language": "python",
   "name": "python3"
  },
  "language_info": {
   "codemirror_mode": {
    "name": "ipython",
    "version": 3
   },
   "file_extension": ".py",
   "mimetype": "text/x-python",
   "name": "python",
   "nbconvert_exporter": "python",
   "pygments_lexer": "ipython3",
   "version": "3.11.2"
  }
 },
 "nbformat": 4,
 "nbformat_minor": 4
}
